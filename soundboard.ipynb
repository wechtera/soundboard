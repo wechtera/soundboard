{
 "cells": [
  {
   "cell_type": "code",
   "execution_count": null,
   "metadata": {},
   "outputs": [
    {
     "name": "stdout",
     "output_type": "stream",
     "text": [
      "pygame 2.0.0.dev6 (SDL 2.0.10, python 3.8.5)\n",
      "Hello from the pygame community. https://www.pygame.org/contribute.html\n"
     ]
    },
    {
     "name": "stderr",
     "output_type": "stream",
     "text": [
      "<ipython-input-1-1b81ddb145f5>:51: DeprecationWarning: an integer is required (got type float).  Implicit conversion to integers using __int__ is deprecated, and may be removed in a future version of Python.\n",
      "  self.surface.blit(self.text, (((width/2)-(text_w/2)),(height/2)-(text_h/2))) #draws something onto itself\n"
     ]
    }
   ],
   "source": [
    "import pygame\n",
    "#for centering text in buttons apparently\n",
    "import pygame.freetype\n",
    "#this is a test add\n",
    "import tkinter as tk\n",
    "from tkinter import Menu  \n",
    "\n",
    "pygame.init()\n",
    "######\n",
    "#things to do:\n",
    "######\n",
    "# - Set \"short name var\" to deal with button width (19 lowercase)\n",
    "# - build file reader \n",
    "# - add tool bar to allow import / export mp3's  https://stackoverflow.com/questions/27872605/how-to-create-this-tkinter-menubar-for-pygame\n",
    "# - Make buttons togglable (HIGH PRIORITY!)\n",
    "# - Have appearance change based on toggle\n",
    "#    + maybe have the playing change color and have icon for easy read\n",
    "\n",
    "\n",
    "\n",
    "#create a window\n",
    "#resolution will need to be hard coded because \n",
    "#it's too much of a pain to make it dynamic\n",
    "res = (700,600) \n",
    "screen = pygame.display.set_mode(res)\n",
    "\n",
    "#configuring window look / comes before flip\n",
    "pygame.display.set_caption('Sound_Board')\n",
    "background_colour=(65, 73, 80)\n",
    "screen.fill(background_colour)\n",
    "\n",
    "\n",
    "\n",
    "#button Class\n",
    "class Button:\n",
    "    \"create a button then blit the surface in the while loop\"\n",
    "    def __init__(self,text,xpos,ypos,bg_c,text_c,width,height):\n",
    "        self.x=xpos\n",
    "        self.y=ypos\n",
    "        self.changetext(text,bg_c, text_c, width, height)\n",
    "    \"\"\"\n",
    "    Note that the button of size 100x100 has a 15 char max with caps?\n",
    "    I can get 19 characters if I force to lowercase so that's what I'm doing\n",
    "    \"\"\"\n",
    "    def changetext(self,text,bg_c, text_c, width, height):\n",
    "        self.text = font.render(text, 1, pygame.Color(text_c))\n",
    "        self.surface = pygame.Surface((width,height))\n",
    "        self.surface.fill(bg_c)\n",
    "        #centering math\n",
    "        text_w, text_h= self.text.get_size()\n",
    "        self.surface.blit(self.text, (((width/2)-(text_w/2)),(height/2)-(text_h/2))) #draws something onto itself\n",
    "        self.rect = pygame.Rect(self.x, self.y, width, height)    \n",
    "        \n",
    "#button definition\n",
    "colour_loop_off= (37, 116, 87)\n",
    "colour_loop_on= (62, 203, 150)\n",
    "colour_single= (203, 167, 62)\n",
    "font=pygame.font.SysFont('Corbel',12)\n",
    "text_colour=\"White\"\n",
    "\n",
    "\n",
    "#automate this shit\n",
    "buttons=[]\n",
    "button1 = Button(\"This is a test\", 10, 10, colour_loop_off,text_colour, 100, 100)\n",
    "buttons.append(button1)\n",
    "\n",
    "\n",
    "def showButtons():\n",
    "    for i in buttons:\n",
    "        screen.blit(i.surface, (i.x, i.y))\n",
    "\n",
    "pygame.display.flip()\n",
    "showButtons()\n",
    "pygame.display.update()\n",
    "running = True\n",
    "while running:\n",
    "    #event handler\n",
    "    for event in pygame.event.get():\n",
    "        #button press anywhere\n",
    "        if event.type==pygame.MOUSEBUTTONDOWN:\n",
    "            x,y= event.pos\n",
    "            for button in buttons:\n",
    "                if button.rect.collidepoint(x,y):\n",
    "                    print(\"Some button pressed\")\n",
    "        #shut down shit\n",
    "        if event.type ==pygame.QUIT:\n",
    "            pygame.quit()\n",
    "            running = False"
   ]
  },
  {
   "cell_type": "raw",
   "metadata": {},
   "source": []
  },
  {
   "cell_type": "code",
   "execution_count": null,
   "metadata": {},
   "outputs": [],
   "source": []
  },
  {
   "cell_type": "code",
   "execution_count": null,
   "metadata": {},
   "outputs": [],
   "source": []
  }
 ],
 "metadata": {
  "kernelspec": {
   "display_name": "Python 3",
   "language": "python",
   "name": "python3"
  },
  "language_info": {
   "codemirror_mode": {
    "name": "ipython",
    "version": 3
   },
   "file_extension": ".py",
   "mimetype": "text/x-python",
   "name": "python",
   "nbconvert_exporter": "python",
   "pygments_lexer": "ipython3",
   "version": "3.8.5"
  }
 },
 "nbformat": 4,
 "nbformat_minor": 4
}
